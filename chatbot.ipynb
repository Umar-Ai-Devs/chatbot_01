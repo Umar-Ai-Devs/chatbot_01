{
 "cells": [
  {
   "cell_type": "code",
   "execution_count": 39,
   "id": "1b9ee18e",
   "metadata": {},
   "outputs": [
    {
     "data": {
      "text/plain": [
       "'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'"
      ]
     },
     "execution_count": 39,
     "metadata": {},
     "output_type": "execute_result"
    }
   ],
   "source": [
    "import os\n",
    "\n",
    "from dotenv import load_dotenv\n",
    "\n",
    "load_dotenv()\n",
    "\n",
    "groq_api_key = os.getenv(\"GROQ_API_KEY\")\n",
    "\n",
    "groq_api_key"
   ]
  },
  {
   "cell_type": "code",
   "execution_count": 40,
   "id": "1cf7ac84",
   "metadata": {},
   "outputs": [
    {
     "data": {
      "text/plain": [
       "ChatGroq(client=<groq.resources.chat.completions.Completions object at 0x00000267031094D0>, async_client=<groq.resources.chat.completions.AsyncCompletions object at 0x000002670321C750>, model_name='gemma2-9b-it', model_kwargs={}, groq_api_key=SecretStr('**********'))"
      ]
     },
     "execution_count": 40,
     "metadata": {},
     "output_type": "execute_result"
    }
   ],
   "source": [
    "from langchain_groq import ChatGroq\n",
    "model = ChatGroq(model=\"gemma2-9b-it\",groq_api_key=groq_api_key)\n",
    "\n",
    "model"
   ]
  },
  {
   "cell_type": "code",
   "execution_count": 41,
   "id": "2abc1822",
   "metadata": {},
   "outputs": [
    {
     "data": {
      "text/plain": [
       "AIMessage(content=\"Hello Umar, it's nice to meet you!\\n\\nThat's impressive, being an AI expert is a fascinating field. What kind of AI work are you involved in? \\n\\nI'm always eager to learn more about what people are doing in the world of artificial intelligence. 😊  \\n\\n\", additional_kwargs={}, response_metadata={'token_usage': {'completion_tokens': 64, 'prompt_tokens': 20, 'total_tokens': 84, 'completion_time': 0.116363636, 'prompt_time': 0.00133397, 'queue_time': 0.267513239, 'total_time': 0.117697606}, 'model_name': 'gemma2-9b-it', 'system_fingerprint': 'fp_10c08bf97d', 'service_tier': 'on_demand', 'finish_reason': 'stop', 'logprobs': None}, id='run--3cc68a81-7398-42dd-aded-d165288ae5e3-0', usage_metadata={'input_tokens': 20, 'output_tokens': 64, 'total_tokens': 84})"
      ]
     },
     "execution_count": 41,
     "metadata": {},
     "output_type": "execute_result"
    }
   ],
   "source": [
    "from langchain_core.messages import HumanMessage\n",
    "\n",
    "model.invoke([HumanMessage(content=\"Hey My Name is Umar and i am in ai expert\")])\n"
   ]
  },
  {
   "cell_type": "code",
   "execution_count": 42,
   "id": "c22b8ebf",
   "metadata": {},
   "outputs": [
    {
     "data": {
      "text/plain": [
       "AIMessage(content=\"You said your name is Umar and that you are an AI expert! 😊  \\n\\nIs there anything else you'd like to tell me about yourself or your work? I'm curious to learn more.  \\n\", additional_kwargs={}, response_metadata={'token_usage': {'completion_tokens': 46, 'prompt_tokens': 65, 'total_tokens': 111, 'completion_time': 0.083636364, 'prompt_time': 0.00227417, 'queue_time': 0.244185801, 'total_time': 0.085910534}, 'model_name': 'gemma2-9b-it', 'system_fingerprint': 'fp_10c08bf97d', 'service_tier': 'on_demand', 'finish_reason': 'stop', 'logprobs': None}, id='run--435150e8-d0fc-4383-964b-43e117a6c740-0', usage_metadata={'input_tokens': 65, 'output_tokens': 46, 'total_tokens': 111})"
      ]
     },
     "execution_count": 42,
     "metadata": {},
     "output_type": "execute_result"
    }
   ],
   "source": [
    "from langchain_core.messages import AIMessage\n",
    "\n",
    "model.invoke([\n",
    "    HumanMessage(content=\"Hey My Name is Umar i am a ai expert\"),\n",
    "    AIMessage(content=\"Hello Umar!It's nice to meet you.  That's impressive, being an AI expert is a fascinating field..\"),\n",
    "    HumanMessage(content=\"Hey what is my name and what do i do\")                                                              ])"
   ]
  },
  {
   "cell_type": "code",
   "execution_count": null,
   "id": "f7b80f8b",
   "metadata": {},
   "outputs": [],
   "source": [
    "## Message History\n",
    "\n",
    "from langchain_community.chat_message_histories import ChatMessageHistory\n",
    "from langchain_core.chat_history import BaseChatMessageHistory\n",
    "from langchain_core.runnables.history import RunnableWithMessageHistory\n",
    "\n",
    "store = {}\n",
    "\n",
    "def get_session_history(session_id: str) -> BaseChatMessageHistory:\n",
    "    if session_id not in store:\n",
    "        store[session_id] = ChatMessageHistory()\n",
    "    return store[session_id]\n",
    "\n",
    "\n",
    "with_message_history = RunnableWithMessageHistory(model,get_session_history=get_session_history)\n"
   ]
  },
  {
   "cell_type": "code",
   "execution_count": 44,
   "id": "88fead2e",
   "metadata": {},
   "outputs": [],
   "source": [
    "config = config = {\"configurable\": {\"session_id\":\"chart1\"}}"
   ]
  },
  {
   "cell_type": "code",
   "execution_count": 45,
   "id": "6e1e48aa",
   "metadata": {},
   "outputs": [],
   "source": [
    "response = with_message_history.invoke(\n",
    "    [HumanMessage(content=\"Hi My Name is Umar\")],\n",
    "    config=config\n",
    ")"
   ]
  },
  {
   "cell_type": "code",
   "execution_count": 46,
   "id": "d5fd482b",
   "metadata": {},
   "outputs": [
    {
     "data": {
      "text/plain": [
       "\"Hi Umar, it's nice to meet you! 👋 \\n\\nWhat can I do for you today? 😊  \\n\\n\""
      ]
     },
     "execution_count": 46,
     "metadata": {},
     "output_type": "execute_result"
    }
   ],
   "source": [
    "response.content"
   ]
  },
  {
   "cell_type": "code",
   "execution_count": 47,
   "id": "01bfc639",
   "metadata": {},
   "outputs": [
    {
     "data": {
      "text/plain": [
       "\"Hi Umar, it's nice to meet you! 👋 \\n\\nWhat can I do for you today? 😊  \\n\\n\""
      ]
     },
     "execution_count": 47,
     "metadata": {},
     "output_type": "execute_result"
    }
   ],
   "source": [
    "with_message_history.invoke(\n",
    "    [HumanMessage(content=\"What is my name ?\")],\n",
    "    config=config\n",
    ")\n",
    "response.content"
   ]
  },
  {
   "cell_type": "code",
   "execution_count": 48,
   "id": "68fa4d04",
   "metadata": {},
   "outputs": [
    {
     "data": {
      "text/plain": [
       "\"Hi Umar, it's nice to meet you! 👋 \\n\\nWhat can I do for you today? 😊  \\n\\n\""
      ]
     },
     "execution_count": 48,
     "metadata": {},
     "output_type": "execute_result"
    }
   ],
   "source": [
    "config = config = {\"configurable\": {\"session_id\":\"chart2\"}}\n",
    "with_message_history.invoke(\n",
    "    [HumanMessage(content=\"What is my name ?\")],\n",
    "    config=config\n",
    ")\n",
    "response.content"
   ]
  },
  {
   "cell_type": "code",
   "execution_count": 49,
   "id": "f4f225e9",
   "metadata": {},
   "outputs": [
    {
     "data": {
      "text/plain": [
       "\"Hi Umar, it's nice to meet you! 👋 \\n\\nWhat can I do for you today? 😊  \\n\\n\""
      ]
     },
     "execution_count": 49,
     "metadata": {},
     "output_type": "execute_result"
    }
   ],
   "source": [
    "with_message_history.invoke(\n",
    "    [HumanMessage(content=\"My Name is Umar\")],\n",
    "    config=config\n",
    ")\n",
    "response.content"
   ]
  },
  {
   "cell_type": "code",
   "execution_count": 50,
   "id": "c1ebc98c",
   "metadata": {},
   "outputs": [
    {
     "data": {
      "text/plain": [
       "\"Hi Umar, it's nice to meet you! 👋 \\n\\nWhat can I do for you today? 😊  \\n\\n\""
      ]
     },
     "execution_count": 50,
     "metadata": {},
     "output_type": "execute_result"
    }
   ],
   "source": [
    "with_message_history.invoke(\n",
    "    [HumanMessage(content=\"What is my name ?\")],\n",
    "    config=config\n",
    ")\n",
    "response.content"
   ]
  },
  {
   "cell_type": "code",
   "execution_count": null,
   "id": "7cb0d59a",
   "metadata": {},
   "outputs": [],
   "source": [
    "from langchain_core.prompts import ChatMessagePromptTemplate,MessagesPlaceholder\n",
    "from langchain_core.messages import HumanMessage\n",
    "prompt = ChatPromptTemplate.from_messages(\n",
    "    [\n",
    "        (\"system\",\"you are a helpful assistant.Answer all the question to the bestest of your abilty\"),\n",
    "        MessagesPlaceholder(variable_name=\"messages\")\n",
    "    ]\n",
    ")\n",
    "chain = prompt | model"
   ]
  },
  {
   "cell_type": "code",
   "execution_count": 58,
   "id": "106c6c4a",
   "metadata": {},
   "outputs": [
    {
     "data": {
      "text/plain": [
       "AIMessage(content=\"Hello Umar! 👋\\n\\nIt's nice to meet you.  \\n\\nI'm ready to answer your questions to the best of my ability.  Just ask away! 😄 \\n\\n\", additional_kwargs={}, response_metadata={'token_usage': {'completion_tokens': 41, 'prompt_tokens': 31, 'total_tokens': 72, 'completion_time': 0.074545455, 'prompt_time': 0.001477299, 'queue_time': 0.251853441, 'total_time': 0.076022754}, 'model_name': 'gemma2-9b-it', 'system_fingerprint': 'fp_10c08bf97d', 'service_tier': 'on_demand', 'finish_reason': 'stop', 'logprobs': None}, id='run--a13de43e-b9f0-40e1-be35-99782f67a7a3-0', usage_metadata={'input_tokens': 31, 'output_tokens': 41, 'total_tokens': 72})"
      ]
     },
     "execution_count": 58,
     "metadata": {},
     "output_type": "execute_result"
    }
   ],
   "source": [
    "chain.invoke({\"messages\": [HumanMessage(content=\"Hi i am Umar\")]})"
   ]
  },
  {
   "cell_type": "code",
   "execution_count": 64,
   "id": "936476db",
   "metadata": {},
   "outputs": [],
   "source": [
    "with_message_history = RunnableWithMessageHistory(chain,get_session_history = get_session_history)"
   ]
  },
  {
   "cell_type": "code",
   "execution_count": 70,
   "id": "8373ee92",
   "metadata": {},
   "outputs": [
    {
     "data": {
      "text/plain": [
       "AIMessage(content=\"Hi Umar! It's nice to meet you. \\n\\nWhat can I do for you today?  😄  \\n\", additional_kwargs={}, response_metadata={'token_usage': {'completion_tokens': 27, 'prompt_tokens': 102, 'total_tokens': 129, 'completion_time': 0.049090909, 'prompt_time': 0.003446828, 'queue_time': 0.243641148, 'total_time': 0.052537737}, 'model_name': 'gemma2-9b-it', 'system_fingerprint': 'fp_10c08bf97d', 'service_tier': 'on_demand', 'finish_reason': 'stop', 'logprobs': None}, id='run--b75a71d4-7a0f-40a8-9c71-ca5360e00166-0', usage_metadata={'input_tokens': 102, 'output_tokens': 27, 'total_tokens': 129})"
      ]
     },
     "execution_count": 70,
     "metadata": {},
     "output_type": "execute_result"
    }
   ],
   "source": [
    "config = {\"configurable\":{\"session_id\":\"chat3\"}}\n",
    "\n",
    "response = with_message_history.invoke(\n",
    "    [HumanMessage(content=\"Hi my name is umar\")],\n",
    "    config=config\n",
    ")\n",
    "response"
   ]
  },
  {
   "cell_type": "code",
   "execution_count": 71,
   "id": "fbcfee1e",
   "metadata": {},
   "outputs": [
    {
     "data": {
      "text/plain": [
       "AIMessage(content='Yes, Umar!  \\n\\nI remember now. 😊 \\n\\nIs there anything else I can help you with?  \\n\\n', additional_kwargs={}, response_metadata={'token_usage': {'completion_tokens': 28, 'prompt_tokens': 142, 'total_tokens': 170, 'completion_time': 0.050909091, 'prompt_time': 0.003528968, 'queue_time': 0.245562457, 'total_time': 0.054438059}, 'model_name': 'gemma2-9b-it', 'system_fingerprint': 'fp_10c08bf97d', 'service_tier': 'on_demand', 'finish_reason': 'stop', 'logprobs': None}, id='run--55e3742b-325d-409e-b5e3-454714f5f672-0', usage_metadata={'input_tokens': 142, 'output_tokens': 28, 'total_tokens': 170})"
      ]
     },
     "execution_count": 71,
     "metadata": {},
     "output_type": "execute_result"
    }
   ],
   "source": [
    "response = with_message_history.invoke(\n",
    "    [HumanMessage(content=\"do you remember my name\")],\n",
    "    config=config\n",
    ")\n",
    "response"
   ]
  },
  {
   "cell_type": "code",
   "execution_count": 82,
   "id": "4fc58136",
   "metadata": {},
   "outputs": [],
   "source": [
    "#Add More Complexicity\n",
    "\n",
    "prompt = ChatPromptTemplate.from_messages(\n",
    "    [\n",
    "        (\n",
    "            \"system\",\n",
    "            \"you are a helpful assistant.Answer all the questions in {langauge}\"\n",
    "         ),\n",
    "         MessagesPlaceholder(variable_name=\"messages\")\n",
    "    ]\n",
    ")\n",
    "\n",
    "chain = prompt | model"
   ]
  },
  {
   "cell_type": "code",
   "execution_count": 92,
   "id": "28369c16",
   "metadata": {},
   "outputs": [
    {
     "data": {
      "text/plain": [
       "AIMessage(content='سلام! میرا نام  h.ai  ہے اور میں آپ کی مدد کرنے کے لیے یہاں ہوں۔  \\n\\nکیا آپ میرے ساتھ کچھ بات چاہتے ہیں؟ \\n', additional_kwargs={}, response_metadata={'token_usage': {'completion_tokens': 46, 'prompt_tokens': 26, 'total_tokens': 72, 'completion_time': 0.083636364, 'prompt_time': 0.001409459, 'queue_time': 0.244503069, 'total_time': 0.085045823}, 'model_name': 'gemma2-9b-it', 'system_fingerprint': 'fp_10c08bf97d', 'service_tier': 'on_demand', 'finish_reason': 'stop', 'logprobs': None}, id='run--69b11b8b-3810-4180-af8a-6679d55cdf43-0', usage_metadata={'input_tokens': 26, 'output_tokens': 46, 'total_tokens': 72})"
      ]
     },
     "execution_count": 92,
     "metadata": {},
     "output_type": "execute_result"
    }
   ],
   "source": [
    "response = chain.invoke({\n",
    "    \"langauge\": \"Urdu\",\n",
    "    \"messages\": [\n",
    "        HumanMessage(content=\"Hi my name is Umar\"),\n",
    "    ]\n",
    "})\n",
    "\n",
    "response"
   ]
  },
  {
   "cell_type": "code",
   "execution_count": 93,
   "id": "f8869bad",
   "metadata": {},
   "outputs": [],
   "source": [
    "with_message_history = RunnableWithMessageHistory(\n",
    "    chain,\n",
    "    get_session_history,\n",
    "    input_messages_key=\"messages\"\n",
    ")"
   ]
  },
  {
   "cell_type": "code",
   "execution_count": null,
   "id": "21d3f8a7",
   "metadata": {},
   "outputs": [],
   "source": [
    "#Manging the conservational history\n"
   ]
  }
 ],
 "metadata": {
  "kernelspec": {
   "display_name": "bbt",
   "language": "python",
   "name": "python3"
  },
  "language_info": {
   "codemirror_mode": {
    "name": "ipython",
    "version": 3
   },
   "file_extension": ".py",
   "mimetype": "text/x-python",
   "name": "python",
   "nbconvert_exporter": "python",
   "pygments_lexer": "ipython3",
   "version": "3.11.0"
  }
 },
 "nbformat": 4,
 "nbformat_minor": 5
}
